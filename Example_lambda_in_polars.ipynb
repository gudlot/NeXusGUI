{
 "cells": [
  {
   "cell_type": "code",
   "execution_count": 5,
   "metadata": {},
   "outputs": [],
   "source": [
    "import h5py\n",
    "from pathlib import Path\n",
    "import numpy as np"
   ]
  },
  {
   "cell_type": "code",
   "execution_count": 6,
   "metadata": {},
   "outputs": [
    {
     "name": "stdout",
     "output_type": "stream",
     "text": [
      "Data size  {21} data shape  (21,)\n",
      "Dataset type: <class 'h5py._hl.dataset.Dataset'>\n",
      "Data type: float64\n",
      "Attributes: <Attributes of HDF5 object at 4872593520>\n",
      "Data2 size  {1} data2 shape  (1,)\n",
      "Dataset type: <class 'h5py._hl.dataset.Dataset'>\n",
      "Data type: float64\n",
      "Attributes: <Attributes of HDF5 object at 4872593440>\n",
      "True\n",
      "[1. 1. 1. 1. 1. 1. 1. 1. 1. 1. 1. 1. 1. 1. 1. 1. 1. 1. 1. 1. 1.]\n",
      "Shape:  (21,)\n",
      "Size  21\n",
      "<class 'numpy.ndarray'>\n",
      "------------------------------\n"
     ]
    }
   ],
   "source": [
    "# Filenames\n",
    "fname1 = '/Users/lotzegud/P08/broken/h2o_2024_10_16_01116.nxs'\n",
    "fname2 = '/Users/lotzegud/P08/broken/nai_250mm_02310.nxs'\n",
    "fname3 = '/Users/lotzegud/P08/broken/nai_250mm_02311.nxs'\n",
    "fname4= '/Users/lotzegud/P08/test_folder2/h2o_2024_10_16_01043.nxs'\n",
    "\n",
    "\n",
    "#for fname in [fname1, fname2, fname3]:    \n",
    "for fname in [fname4]:    \n",
    "    with h5py.File(fname, 'r') as f:\n",
    "        # Access the dataset\n",
    "        dataset = f['/scan/instrument/lisa_sample/lisa_sample_stage/sz']\n",
    "        data = dataset[...]  # Load the actual data\n",
    "        print('Data size ',{data.size}, 'data shape ', data.shape)\n",
    "        print(f\"Dataset type: {type(dataset)}\")  # This prints the type of the h5py dataset\n",
    "        print(f\"Data type: {data.dtype}\")  # This prints the numpy dtype of the dataset's data\n",
    "        print(f\"Attributes: {dataset.attrs}\")  # Attributes of the dataset\n",
    "        \n",
    "        # Similarly for the second dataset\n",
    "        dataset2 = f['/scan/instrument/mlaser/transformations/trans']\n",
    "        data2 = dataset2[...]  # Load the actual data\n",
    "        print('Data2 size ',{data2.size}, 'data2 shape ', data2.shape)\n",
    "        print(f\"Dataset type: {type(dataset2)}\")  # This prints the type of the h5py dataset\n",
    "        print(f\"Data type: {data2.dtype}\")  # This prints the numpy dtype of the dataset's data\n",
    "        print(f\"Attributes: {dataset2.attrs}\")  # Attributes of the dataset\n",
    "        \n",
    "        \n",
    "        #dataset3=f['/scan/apd/data']\n",
    "        print(isinstance(f['/scan/instrument/collection/exp_t01'], h5py.Dataset))  # Should return True if it's a dataset\n",
    "        dataset3=f['/scan/instrument/collection/exp_t01']\n",
    "        data3 = dataset3[...]\n",
    "        print(data3)\n",
    "        print('Shape: ', data3.shape)\n",
    "        print('Size ',data3.size)\n",
    "        print(type(data3))\n",
    "    \n",
    "    print(30*'-')\n"
   ]
  },
  {
   "cell_type": "code",
   "execution_count": 13,
   "metadata": {},
   "outputs": [
    {
     "name": "stdout",
     "output_type": "stream",
     "text": [
      "Here\n",
      " SELECT [col(\"a\").map_list()] FROM\n",
      "  DF [\"a\"]; PROJECT[\"a\"] 1/1 COLUMNS\n",
      "shape: (2, 1)\n",
      "┌─────┐\n",
      "│ a   │\n",
      "│ --- │\n",
      "│ str │\n",
      "╞═════╡\n",
      "│ a   │\n",
      "│ c   │\n",
      "└─────┘\n"
     ]
    },
    {
     "name": "stderr",
     "output_type": "stream",
     "text": [
      "/var/folders/f5/dfxnk99n5jz64b0dsm0lxfd00000gp/T/ipykernel_3819/2694821941.py:13: MapWithoutReturnDtypeWarning: Calling `map_elements` without specifying `return_dtype` can lead to unpredictable results. Specify `return_dtype` to silence this warning.\n",
      "  df = dlz.collect()\n"
     ]
    }
   ],
   "source": [
    "import polars as pl\n",
    "\n",
    "dlz= pl.LazyFrame({\n",
    "    \"a\": [lambda: \"a\", lambda: \"c\"]\n",
    "              }).select(pl.col(\"a\").map_elements(lambda function: function())\n",
    "                        ) #.collect()\n",
    "              \n",
    "# Explain the lazy plan\n",
    "print('Here')\n",
    "print(dlz.explain(optimized=True))\n",
    "\n",
    "# Now collect the results\n",
    "df = dlz.collect()\n",
    "print(df)"
   ]
  },
  {
   "cell_type": "code",
   "execution_count": 14,
   "metadata": {},
   "outputs": [
    {
     "name": "stdout",
     "output_type": "stream",
     "text": [
      "DF [\"directory\", \"file_name\", \"dataset_name\"]; PROJECT */3 COLUMNS\n",
      "shape: (5, 4)\n",
      "┌────────────────────────┬────────────────────────┬────────────────────────┬───────────────────────┐\n",
      "│ directory              ┆ file_name              ┆ dataset_name           ┆ data                  │\n",
      "│ ---                    ┆ ---                    ┆ ---                    ┆ ---                   │\n",
      "│ str                    ┆ str                    ┆ str                    ┆ object                │\n",
      "╞════════════════════════╪════════════════════════╪════════════════════════╪═══════════════════════╡\n",
      "│ /Users/lotzegud/P08/te ┆ h2o_2024_10_16_01043.n ┆ /scan/instrument/colle ┆ [1.0, 1.0, 1.0, 1.0,  │\n",
      "│ st_folde…              ┆ xs                     ┆ ction/ex…              ┆ 1.0, 1.0,…            │\n",
      "│ /Users/lotzegud/P08/te ┆ h2o_2024_10_16_01044.n ┆ /scan/instrument/colle ┆ [1.0, 1.0, 1.0, 1.0,  │\n",
      "│ st_folde…              ┆ xs                     ┆ ction/ex…              ┆ 1.0, 1.0,…            │\n",
      "│ /Users/lotzegud/P08/te ┆ h2o_2024_10_16_01045.n ┆ /scan/instrument/colle ┆ [1.0, 1.0, 1.0, 1.0,  │\n",
      "│ st_folde…              ┆ xs                     ┆ ction/ex…              ┆ 1.0, 1.0,…            │\n",
      "│ /Users/lotzegud/P08/te ┆ h2o_2024_10_16_01046.n ┆ /scan/instrument/colle ┆ [1.0, 1.0, 1.0, 1.0,  │\n",
      "│ st_folde…              ┆ xs                     ┆ ction/ex…              ┆ 1.0, 1.0,…            │\n",
      "│ /Users/lotzegud/P08/te ┆ h2o_2024_10_16_01047.n ┆ /scan/instrument/colle ┆ [1.0, 1.0, 1.0, 1.0,  │\n",
      "│ st_folde…              ┆ xs                     ┆ ction/ex…              ┆ 1.0, 1.0,…            │\n",
      "└────────────────────────┴────────────────────────┴────────────────────────┴───────────────────────┘\n",
      "<class 'polars.lazyframe.frame.LazyFrame'>\n",
      "shape: (5, 6)\n",
      "┌─────────────────┬────────────────┬────────────────┬────────────┬────────────────┬────────────────┐\n",
      "│ directory       ┆ file_name      ┆ dataset_name   ┆ data       ┆ data_ref       ┆ data2          │\n",
      "│ ---             ┆ ---            ┆ ---            ┆ ---        ┆ ---            ┆ ---            │\n",
      "│ str             ┆ str            ┆ str            ┆ object     ┆ object         ┆ object         │\n",
      "╞═════════════════╪════════════════╪════════════════╪════════════╪════════════════╪════════════════╡\n",
      "│ /Users/lotzegud ┆ h2o_2024_10_16 ┆ /scan/instrume ┆ [1.0, 1.0, ┆ LazyDatasetRef ┆ [1.0, 1.0,     │\n",
      "│ /P08/test_folde ┆ _01043.nxs     ┆ nt/collection/ ┆ 1.0, 1.0,  ┆ erence(directo ┆ 1.0, 1.0, 1.0, │\n",
      "│ …               ┆                ┆ ex…            ┆ 1.0, 1.0,… ┆ ry…            ┆ 1.0,…          │\n",
      "│ /Users/lotzegud ┆ h2o_2024_10_16 ┆ /scan/instrume ┆ [1.0, 1.0, ┆ LazyDatasetRef ┆ [1.0, 1.0,     │\n",
      "│ /P08/test_folde ┆ _01044.nxs     ┆ nt/collection/ ┆ 1.0, 1.0,  ┆ erence(directo ┆ 1.0, 1.0, 1.0, │\n",
      "│ …               ┆                ┆ ex…            ┆ 1.0, 1.0,… ┆ ry…            ┆ 1.0,…          │\n",
      "│ /Users/lotzegud ┆ h2o_2024_10_16 ┆ /scan/instrume ┆ [1.0, 1.0, ┆ LazyDatasetRef ┆ [1.0, 1.0,     │\n",
      "│ /P08/test_folde ┆ _01045.nxs     ┆ nt/collection/ ┆ 1.0, 1.0,  ┆ erence(directo ┆ 1.0, 1.0, 1.0, │\n",
      "│ …               ┆                ┆ ex…            ┆ 1.0, 1.0,… ┆ ry…            ┆ 1.0,…          │\n",
      "│ /Users/lotzegud ┆ h2o_2024_10_16 ┆ /scan/instrume ┆ [1.0, 1.0, ┆ LazyDatasetRef ┆ [1.0, 1.0,     │\n",
      "│ /P08/test_folde ┆ _01046.nxs     ┆ nt/collection/ ┆ 1.0, 1.0,  ┆ erence(directo ┆ 1.0, 1.0, 1.0, │\n",
      "│ …               ┆                ┆ ex…            ┆ 1.0, 1.0,… ┆ ry…            ┆ 1.0,…          │\n",
      "│ /Users/lotzegud ┆ h2o_2024_10_16 ┆ /scan/instrume ┆ [1.0, 1.0, ┆ LazyDatasetRef ┆ [1.0, 1.0,     │\n",
      "│ /P08/test_folde ┆ _01047.nxs     ┆ nt/collection/ ┆ 1.0, 1.0,  ┆ erence(directo ┆ 1.0, 1.0, 1.0, │\n",
      "│ …               ┆                ┆ ex…            ┆ 1.0, 1.0,… ┆ ry…            ┆ 1.0,…          │\n",
      "└─────────────────┴────────────────┴────────────────┴────────────┴────────────────┴────────────────┘\n"
     ]
    }
   ],
   "source": [
    "import polars as pl\n",
    "from pathlib import Path\n",
    "import h5py\n",
    "from dataclasses import dataclass\n",
    "\n",
    "\n",
    "\n",
    "@dataclass\n",
    "class LazyDatasetReference:\n",
    "    directory: Path\n",
    "    file_name: str\n",
    "    dataset_name: str\n",
    "\n",
    "    def load_on_demand(self):\n",
    "        \"\"\"Load dataset from HDF5 file lazily.\"\"\"\n",
    "        file_path = self.directory / self.file_name\n",
    "        with h5py.File(file_path, \"r\") as f:\n",
    "            data = f[self.dataset_name][:]\n",
    "            \n",
    "            if data.size == 0:\n",
    "                return None  # Handle empty datasets\n",
    "            \n",
    "            if data.ndim == 1:\n",
    "                return data.tolist()  # Store as Polars List\n",
    "            \n",
    "            if data.ndim == 2:\n",
    "                return data  # Store as Polars Array\n",
    "\n",
    "            raise ValueError(f\"Unexpected shape {data.shape} in dataset {self.dataset_name}\")\n",
    "\n",
    "\n",
    "# --- 1. Create LazyFrame storing metadata only ---\n",
    "df = pl.LazyFrame({\n",
    "    \"directory\": [\"/Users/lotzegud/P08/test_folder2\"] * 5,  # Directory path repeated for each file\n",
    "    \"file_name\": [\n",
    "        \"h2o_2024_10_16_01043.nxs\",\n",
    "        \"h2o_2024_10_16_01044.nxs\",\n",
    "        \"h2o_2024_10_16_01045.nxs\",\n",
    "        \"h2o_2024_10_16_01046.nxs\",\n",
    "        \"h2o_2024_10_16_01047.nxs\",\n",
    "    ],\n",
    "    \"dataset_name\": [\"/scan/instrument/collection/exp_t01\"] * 5,  # Same dataset for all\n",
    "})\n",
    "\n",
    "print(df.explain(optimized=True))\n",
    "\n",
    "# --- 2. Use map_elements to load data lazily ---\n",
    "df = df.with_columns(\n",
    "    pl.struct([\"directory\", \"file_name\", \"dataset_name\"])\n",
    "    .map_elements(lambda row: LazyDatasetReference(\n",
    "        directory=Path(row[\"directory\"]),\n",
    "        file_name=row[\"file_name\"],\n",
    "        dataset_name=row[\"dataset_name\"]\n",
    "    ).load_on_demand(), return_dtype=pl.Object)  # Adjust dtype as needed\n",
    "    .alias(\"data\")\n",
    ")\n",
    "# --- 3. Collect the results (forcing evaluation) ---\n",
    "result = df.collect()\n",
    "print(result)\n",
    "\n",
    "\n",
    "\n",
    "df = df.with_columns(\n",
    "    pl.struct([\"directory\", \"file_name\", \"dataset_name\"])\n",
    "    .map_elements(lambda row: LazyDatasetReference(\n",
    "        directory=Path(row[\"directory\"]),\n",
    "        file_name=row[\"file_name\"],\n",
    "        dataset_name=row[\"dataset_name\"]\n",
    "    ), return_dtype=pl.Object)\n",
    "    .alias(\"data_ref\")  # Store reference, NOT loaded data\n",
    ")\n",
    "df = df.with_columns(\n",
    "    pl.col(\"data_ref\").map_elements(lambda ref: ref.load_on_demand(), return_dtype=pl.Object)\n",
    "    .alias(\"data2\")\n",
    ")\n",
    "\n",
    "print(type(df))\n",
    "\n",
    "print(df.collect())\n",
    "\n",
    "\n",
    "\n",
    "\n"
   ]
  },
  {
   "cell_type": "code",
   "execution_count": null,
   "metadata": {},
   "outputs": [
    {
     "name": "stdout",
     "output_type": "stream",
     "text": [
      "DF [\"col1\", \"col2\"]; PROJECT */2 COLUMNS\n",
      "DF [\"col1\", \"col2\"]; PROJECT */2 COLUMNS\n"
     ]
    }
   ],
   "source": [
    "# Create a dummy LazyFrame\n",
    "dflazy = pl.LazyFrame({\n",
    "    \"col1\": [1, 2, 3],\n",
    "    \"col2\": [4, 5, 6]\n",
    "})\n",
    "\n",
    "# Explain the logical plan (default, unoptimized)\n",
    "print(dflazy.explain())\n",
    "\n",
    "# Explain the optimized logical plan\n",
    "print(dflazy.explain(optimized=True))"
   ]
  },
  {
   "cell_type": "code",
   "execution_count": 16,
   "metadata": {},
   "outputs": [
    {
     "name": "stdout",
     "output_type": "stream",
     "text": [
      "UTC Time: 2024-10-20T06:37:14.174000+00:00\n",
      "Local Time (CEST): 2024-10-20T08:37:14.174000+02:00\n"
     ]
    }
   ],
   "source": [
    "from datetime import datetime, timezone\n",
    "\n",
    "epoch_time = 1729406234.174  # Example epoch timestamp\n",
    "\n",
    "# Convert to UTC\n",
    "dt_utc = datetime.fromtimestamp(epoch_time, tz=timezone.utc)\n",
    "print(\"UTC Time:\", dt_utc.isoformat())\n",
    "\n",
    "# Convert to local timezone (example: Europe/Berlin, CEST)\n",
    "import pytz\n",
    "local_tz = pytz.timezone(\"Europe/Berlin\")\n",
    "dt_local = dt_utc.astimezone(local_tz)\n",
    "print(\"Local Time (CEST):\", dt_local.isoformat())\n"
   ]
  },
  {
   "cell_type": "code",
   "execution_count": null,
   "metadata": {},
   "outputs": [],
   "source": []
  }
 ],
 "metadata": {
  "kernelspec": {
   "display_name": "pydidas",
   "language": "python",
   "name": "python3"
  },
  "language_info": {
   "codemirror_mode": {
    "name": "ipython",
    "version": 3
   },
   "file_extension": ".py",
   "mimetype": "text/x-python",
   "name": "python",
   "nbconvert_exporter": "python",
   "pygments_lexer": "ipython3",
   "version": "3.12.8"
  }
 },
 "nbformat": 4,
 "nbformat_minor": 2
}
